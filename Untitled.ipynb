{
 "cells": [
  {
   "cell_type": "code",
   "execution_count": 15,
   "id": "a5483865",
   "metadata": {},
   "outputs": [
    {
     "name": "stdout",
     "output_type": "stream",
     "text": [
      "Requirement already satisfied: psutil in /opt/anaconda3/lib/python3.11/site-packages (5.9.0)\n",
      "Collecting fpdf\n",
      "  Downloading fpdf-1.7.2.tar.gz (39 kB)\n",
      "  Preparing metadata (setup.py) ... \u001b[?25ldone\n",
      "\u001b[?25hBuilding wheels for collected packages: fpdf\n",
      "  Building wheel for fpdf (setup.py) ... \u001b[?25ldone\n",
      "\u001b[?25h  Created wheel for fpdf: filename=fpdf-1.7.2-py2.py3-none-any.whl size=40704 sha256=a81c24ba3ec49142a5371dd2ac358f094a1c4228c825ede39074a7ee0acbe510\n",
      "  Stored in directory: /Users/sriramvarma/Library/Caches/pip/wheels/65/4f/66/bbda9866da446a72e206d6484cd97381cbc7859a7068541c36\n",
      "Successfully built fpdf\n",
      "Installing collected packages: fpdf\n",
      "Successfully installed fpdf-1.7.2\n"
     ]
    }
   ],
   "source": [
    "!pip install psutil\n",
    "!pip install fpdf"
   ]
  },
  {
   "cell_type": "code",
   "execution_count": 22,
   "id": "de83aa73",
   "metadata": {},
   "outputs": [],
   "source": [
    "import psutil\n",
    "import platform\n",
    "import socket\n",
    "import fpdf"
   ]
  },
  {
   "cell_type": "code",
   "execution_count": 23,
   "id": "4fc5acb9",
   "metadata": {},
   "outputs": [],
   "source": [
    "from datetime import datetime"
   ]
  },
  {
   "cell_type": "code",
   "execution_count": 24,
   "id": "5611cede",
   "metadata": {},
   "outputs": [
    {
     "name": "stdout",
     "output_type": "stream",
     "text": [
      "======================================== System Information ========================================\n",
      "System: Darwin\n",
      "Node Name: Srirams-Air\n",
      "Release: 23.4.0\n",
      "Version: Darwin Kernel Version 23.4.0: Fri Mar 15 00:19:22 PDT 2024; root:xnu-10063.101.17~1/RELEASE_ARM64_T8112\n",
      "Machine: arm64\n",
      "Processor: arm\n",
      "Hostname: Srirams-Air\n",
      "IP Address: 192.168.1.136\n",
      "========================================  End  ========================================\n"
     ]
    }
   ],
   "source": [
    "print(\"=\"*40,\"System Information\",\"=\" *40)\n",
    "name = platform.uname()\n",
    "host = socket.gethostname()\n",
    "print(f\"System: {name.system}\")\n",
    "print(f\"Node Name: {name.node}\" )\n",
    "print(f\"Release: {name.release}\")\n",
    "print(f\"Version: {name.version}\")\n",
    "print(f\"Machine: {name.machine}\")\n",
    "print(f\"Processor: {name.processor}\")\n",
    "print(f\"Hostname: {socket.gethostname()}\")\n",
    "print(f\"IP Address: {socket.gethostbyname(socket.gethostname())}\")\n",
    "\n",
    "print(\"=\"*40,\" End \",\"=\"*40)"
   ]
  },
  {
   "cell_type": "code",
   "execution_count": null,
   "id": "7979c3e4",
   "metadata": {},
   "outputs": [],
   "source": [
    "print(\"=\"*40,\"System Information\",\"=\" *40)\n",
    "name = platform.uname()\n",
    "host = socket.gethostname()\n",
    "\n",
    "pdf = fpdf.FPDF(format='letter')\n",
    "pdf.add_page()\n",
    "pdf.set_font(\"Arial\", size=12)\n",
    "\n",
    "pdf.write(f\"System: {name.system}\")\n",
    "pdf.write(f\"Node Name: {name.node}\" )\n",
    "pdf.write(f\"Release: {name.release}\")\n",
    "pdf.write(f\"Version: {name.version}\")\n",
    "pdf.write(f\"Machine: {name.machine}\")\n",
    "pdf.write(f\"Processor: {name.processor}\")\n",
    "#print(f\"Hostname: {socket.gethostname()}\")\n",
    "pdf.write(f\"IP Address: {socket.gethostbyname(socket.gethostname())}\")\n",
    "\n",
    "\n",
    "#pdf.write(\"=\"*40,\" End \",\"=\"*40)\n",
    "pdf.output(\"drdo.pdf\")"
   ]
  }
 ],
 "metadata": {
  "kernelspec": {
   "display_name": "Python 3 (ipykernel)",
   "language": "python",
   "name": "python3"
  },
  "language_info": {
   "codemirror_mode": {
    "name": "ipython",
    "version": 3
   },
   "file_extension": ".py",
   "mimetype": "text/x-python",
   "name": "python",
   "nbconvert_exporter": "python",
   "pygments_lexer": "ipython3",
   "version": "3.11.7"
  }
 },
 "nbformat": 4,
 "nbformat_minor": 5
}
