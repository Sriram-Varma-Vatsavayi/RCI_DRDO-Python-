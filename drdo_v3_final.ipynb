{
 "cells": [
  {
   "cell_type": "code",
   "execution_count": 1,
   "id": "a7a43a6e",
   "metadata": {},
   "outputs": [],
   "source": [
    "from IPython import get_ipython"
   ]
  },
  {
   "cell_type": "code",
   "execution_count": 2,
   "id": "3e8735d4",
   "metadata": {},
   "outputs": [
    {
     "name": "stdout",
     "output_type": "stream",
     "text": [
      "Requirement already satisfied: psutil in /opt/anaconda3/lib/python3.11/site-packages (5.9.0)\n",
      "Requirement already satisfied: fpdf in /opt/anaconda3/lib/python3.11/site-packages (1.7.2)\n"
     ]
    }
   ],
   "source": [
    "!pip install psutil\n",
    "!pip install fpdf"
   ]
  },
  {
   "cell_type": "code",
   "execution_count": 3,
   "id": "a8bfd7aa",
   "metadata": {},
   "outputs": [],
   "source": [
    "import psutil\n",
    "import platform\n",
    "import socket\n",
    "import fpdf"
   ]
  },
  {
   "cell_type": "code",
   "execution_count": 4,
   "id": "465c4828",
   "metadata": {},
   "outputs": [],
   "source": [
    "from datetime import datetime"
   ]
  },
  {
   "cell_type": "code",
   "execution_count": 5,
   "id": "0fc386a7",
   "metadata": {},
   "outputs": [
    {
     "name": "stdout",
     "output_type": "stream",
     "text": [
      "======================================== System Information ========================================\n",
      "System Name: Darwin\n",
      "Node Name: Srirams-MacBook-Air.local\n",
      "Release Name: 23.5.0\n",
      "Version Name: Darwin Kernel Version 23.5.0: Wed May  1 20:19:05 PDT 2024; root:xnu-10063.121.3~5/RELEASE_ARM64_T8112\n",
      "Machine Name: arm64\n",
      "Processor Name: arm\n",
      "Host Name: Srirams-MacBook-Air.local\n",
      "IP Address: 127.0.0.1\n",
      "Wifi Status: Connected to wifi\n"
     ]
    },
    {
     "data": {
      "text/plain": [
       "''"
      ]
     },
     "execution_count": 5,
     "metadata": {},
     "output_type": "execute_result"
    }
   ],
   "source": [
    "print(\"=\"*40,\"System Information\",\"=\" *40)\n",
    "name = platform.uname()\n",
    "host = socket.gethostname()\n",
    "\n",
    "pdf = fpdf.FPDF(format='letter')\n",
    "pdf.add_page()\n",
    "pdf.set_font(\"Arial\", size=12)\n",
    "def test_connection():\n",
    "    try:\n",
    "        socket.create_connection(('Google.com', 80))\n",
    "        return True\n",
    "    except OSError:\n",
    "        return False\n",
    "\n",
    "system_name = name.system\n",
    "node_name = name.node\n",
    "release_name = name.release\n",
    "version_name = name.version\n",
    "machine_name = name.machine\n",
    "processor_name = name.processor\n",
    "host_name = socket.gethostname()\n",
    "ip_address = socket.gethostbyname(host)\n",
    "\n",
    "#pdf.write(\"=\"*40,\" End \",\"=\"*40)\n",
    "#pdf.output(\"drdo.pdf\")\n",
    "\n",
    "print(\"System Name: \"+system_name)\n",
    "print(\"Node Name: \"+node_name)\n",
    "print(\"Release Name: \"+release_name)\n",
    "print(\"Version Name: \"+version_name)\n",
    "print(\"Machine Name: \"+machine_name)\n",
    "print(\"Processor Name: \"+processor_name)\n",
    "print(\"Host Name: \"+host_name)\n",
    "print(\"IP Address: \"+ip_address)\n",
    "if(test_connection()==True):\n",
    "    wifi_status = \"Connected to wifi\"\n",
    "else:\n",
    "    wifi_status = \"Not Connected to wifi\"\n",
    "print(\"Wifi Status: \"+wifi_status)\n",
    "\n",
    "#l1=[system_name,node_name,release_name,version_name,machine_name,processor_name,host_name,ip_address]\n",
    "d1= {'System Name: ': system_name,'node name: ': node_name,'release name: ': release_name,'Version Name: ':version_name,'Machine Name: ': machine_name,'Processor Name: ':processor_name,\"Host Name: \":host_name,\"IP Address: \":ip_address,\"Wifi Connectivity: \":wifi_status}\n",
    "# for i in l1:\n",
    "#     pdf.write(10,str(i))\n",
    "#     pdf.ln()\n",
    "values = d1.values()\n",
    "keys = d1.keys()\n",
    "items = d1.items()\n",
    "for keys,values in d1.items():\n",
    "    pdf.write(10,str(keys+\" \"+values))\n",
    "    pdf.ln()\n",
    "pdf.output(\"drdov3.pdf\")"
   ]
  },
  {
   "cell_type": "code",
   "execution_count": null,
   "id": "0108d421",
   "metadata": {},
   "outputs": [],
   "source": []
  }
 ],
 "metadata": {
  "kernelspec": {
   "display_name": "Python 3 (ipykernel)",
   "language": "python",
   "name": "python3"
  },
  "language_info": {
   "codemirror_mode": {
    "name": "ipython",
    "version": 3
   },
   "file_extension": ".py",
   "mimetype": "text/x-python",
   "name": "python",
   "nbconvert_exporter": "python",
   "pygments_lexer": "ipython3",
   "version": "3.11.7"
  }
 },
 "nbformat": 4,
 "nbformat_minor": 5
}
