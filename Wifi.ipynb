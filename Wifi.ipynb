{
 "cells": [
  {
   "cell_type": "code",
   "execution_count": 5,
   "id": "77f57dea",
   "metadata": {},
   "outputs": [
    {
     "name": "stdout",
     "output_type": "stream",
     "text": [
      "Connected to Wifi\n"
     ]
    }
   ],
   "source": [
    "import socket\n",
    "\n",
    "def test_connection():\n",
    "    try:\n",
    "        socket.create_connection(('Google.com', 80))\n",
    "        return True\n",
    "    except OSError:\n",
    "        return False\n",
    "    \n",
    "if(test_connection()==True):\n",
    "    print(\"Connected to Wifi\")\n",
    "else:\n",
    "    print(\"Not Connected to Wifi\")\n",
    "#print(test_connection())"
   ]
  },
  {
   "cell_type": "code",
   "execution_count": 11,
   "id": "c8f1d787",
   "metadata": {},
   "outputs": [],
   "source": [
    "#!pip install os-sys\n",
    "import os"
   ]
  },
  {
   "cell_type": "code",
   "execution_count": 13,
   "id": "2998fc50",
   "metadata": {},
   "outputs": [
    {
     "ename": "TypeError",
     "evalue": "'_Environ' object is not callable",
     "output_type": "error",
     "traceback": [
      "\u001b[0;31m---------------------------------------------------------------------------\u001b[0m",
      "\u001b[0;31mTypeError\u001b[0m                                 Traceback (most recent call last)",
      "Cell \u001b[0;32mIn[13], line 1\u001b[0m\n\u001b[0;32m----> 1\u001b[0m os\u001b[38;5;241m.\u001b[39menviron()\n",
      "\u001b[0;31mTypeError\u001b[0m: '_Environ' object is not callable"
     ]
    }
   ],
   "source": [
    "os.()"
   ]
  },
  {
   "cell_type": "code",
   "execution_count": null,
   "id": "a1448a64",
   "metadata": {},
   "outputs": [],
   "source": []
  },
  {
   "cell_type": "code",
   "execution_count": null,
   "id": "32cd1519",
   "metadata": {},
   "outputs": [],
   "source": []
  }
 ],
 "metadata": {
  "kernelspec": {
   "display_name": "Python 3 (ipykernel)",
   "language": "python",
   "name": "python3"
  },
  "language_info": {
   "codemirror_mode": {
    "name": "ipython",
    "version": 3
   },
   "file_extension": ".py",
   "mimetype": "text/x-python",
   "name": "python",
   "nbconvert_exporter": "python",
   "pygments_lexer": "ipython3",
   "version": "3.11.7"
  }
 },
 "nbformat": 4,
 "nbformat_minor": 5
}
