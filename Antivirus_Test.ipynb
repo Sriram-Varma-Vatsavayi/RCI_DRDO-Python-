{
 "cells": [
  {
   "cell_type": "code",
   "execution_count": 2,
   "id": "bac3b1b6",
   "metadata": {},
   "outputs": [],
   "source": [
    "import psutil"
   ]
  },
  {
   "cell_type": "code",
   "execution_count": 11,
   "id": "567b2b73",
   "metadata": {},
   "outputs": [],
   "source": [
    "def get_network_type():\n",
    "    network_interfaces = psutil.net_if_addrs()\n",
    "    network_stats = psutil.net_if_stats()\n",
    "\n",
    "    for interface, addrs in network_interfaces.items():\n",
    "        if interface in network_stats and network_stats[interface].isup:\n",
    "            for addr in addrs:\n",
    "                if addr.family == psutil.AF_LINK:  # MAC address\n",
    "                    interface_type = network_stats[interface]\n",
    "                    if 'wireless' in interface.lower():\n",
    "                        return f\"Connected via WiFi: {interface}\"\n",
    "                    elif 'ethernet' in interface.lower():\n",
    "                        return f\"Connected via Ethernet: {interface}\"\n",
    "                    else:\n",
    "                        # Heuristically determine connection type\n",
    "                        if interface_type.speed >= 1000:\n",
    "                            return f\"Connected via Ethernet: {interface}\"\n",
    "                        else:\n",
    "                            return f\"Connected via WiFi: {interface}\"\n",
    "\n",
    "    return \"No active network connection found\""
   ]
  },
  {
   "cell_type": "code",
   "execution_count": 13,
   "id": "37366122",
   "metadata": {},
   "outputs": [
    {
     "name": "stdout",
     "output_type": "stream",
     "text": [
      "Connected via WiFi: anpi0\n"
     ]
    }
   ],
   "source": [
    "if __name__ == \"__main__\":\n",
    "    connection_type = get_network_type()\n",
    "    print(connection_type)"
   ]
  },
  {
   "cell_type": "code",
   "execution_count": null,
   "id": "51f13f46",
   "metadata": {},
   "outputs": [],
   "source": []
  },
  {
   "cell_type": "code",
   "execution_count": null,
   "id": "b6535827",
   "metadata": {},
   "outputs": [],
   "source": []
  }
 ],
 "metadata": {
  "kernelspec": {
   "display_name": "Python 3 (ipykernel)",
   "language": "python",
   "name": "python3"
  },
  "language_info": {
   "codemirror_mode": {
    "name": "ipython",
    "version": 3
   },
   "file_extension": ".py",
   "mimetype": "text/x-python",
   "name": "python",
   "nbconvert_exporter": "python",
   "pygments_lexer": "ipython3",
   "version": "3.11.7"
  }
 },
 "nbformat": 4,
 "nbformat_minor": 5
}
