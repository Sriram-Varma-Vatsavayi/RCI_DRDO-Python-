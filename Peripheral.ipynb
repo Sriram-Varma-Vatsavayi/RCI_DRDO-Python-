{
 "cells": [
  {
   "cell_type": "code",
   "execution_count": 8,
   "id": "88a35f24",
   "metadata": {},
   "outputs": [],
   "source": [
    "import psutil\n",
    "import platform"
   ]
  },
  {
   "cell_type": "code",
   "execution_count": 11,
   "id": "c48dff42",
   "metadata": {},
   "outputs": [],
   "source": [
    "\n",
    "def get_connected_devices():\n",
    "    devices_info = \"Connected Peripheral Devices:\\n\"\n",
    "    \n",
    "    if platform.system() == \"Windows\":\n",
    "        try:\n",
    "            import wmi\n",
    "            w = wmi.WMI()\n",
    "            for usb in w.Win32_USBHub():\n",
    "                devices_info += f\"Name: {usb.Description}\\n\"\n",
    "        except ImportError:\n",
    "            devices_info += \"WMI module not installed. Run pip install WMI to use this functionality.\\n\"\n",
    "    elif platform.system() == \"Linux\":\n",
    "        try:\n",
    "            usb_devices = psutil.disk_partitions()\n",
    "            for device in usb_devices:\n",
    "                if 'usb' in device.opts:\n",
    "                    devices_info += f\"Device: {device.device}, Mountpoint: {device.mountpoint}, Type: {device.fstype}\\n\"\n",
    "        except Exception as e:\n",
    "            devices_info += f\"An error occurred: {e}\\n\"\n",
    "    elif platform.system() == \"Darwin\":\n",
    "        try:\n",
    "            from os import listdir\n",
    "            from os.path import isfile, join\n",
    "            \n",
    "            usb_path = \"/Volumes\"\n",
    "            usb_devices = [f for f in listdir(usb_path) if isfile(join(usb_path, f))]\n",
    "            for device in usb_devices:\n",
    "                devices_info += f\"Device: {device}\\n\"\n",
    "        except Exception as e:\n",
    "            devices_info += f\"An error occurred: {e}\\n\"\n",
    "    else:\n",
    "        devices_info += \"Unsupported platform\\n\"\n",
    "\n",
    "    return devices_info"
   ]
  },
  {
   "cell_type": "code",
   "execution_count": 12,
   "id": "d015321c",
   "metadata": {},
   "outputs": [
    {
     "name": "stdout",
     "output_type": "stream",
     "text": [
      "Connected Peripheral Devices:\n",
      "\n"
     ]
    }
   ],
   "source": [
    "if __name__ == \"__main__\":\n",
    "    result = get_connected_devices()\n",
    "    print(result)"
   ]
  },
  {
   "cell_type": "code",
   "execution_count": null,
   "id": "0921ba0a",
   "metadata": {},
   "outputs": [],
   "source": []
  }
 ],
 "metadata": {
  "kernelspec": {
   "display_name": "Python 3 (ipykernel)",
   "language": "python",
   "name": "python3"
  },
  "language_info": {
   "codemirror_mode": {
    "name": "ipython",
    "version": 3
   },
   "file_extension": ".py",
   "mimetype": "text/x-python",
   "name": "python",
   "nbconvert_exporter": "python",
   "pygments_lexer": "ipython3",
   "version": "3.11.7"
  }
 },
 "nbformat": 4,
 "nbformat_minor": 5
}
